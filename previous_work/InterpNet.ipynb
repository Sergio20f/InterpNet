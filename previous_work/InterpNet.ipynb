{
 "cells": [
  {
   "cell_type": "code",
   "execution_count": 1,
   "id": "9b37daf3",
   "metadata": {},
   "outputs": [],
   "source": [
    "import os\n",
    "from pathlib import Path\n",
    "import glob\n",
    "import struct\n",
    "import pandas as pd"
   ]
  },
  {
   "cell_type": "code",
   "execution_count": 2,
   "id": "c0695151",
   "metadata": {},
   "outputs": [],
   "source": [
    "data_path_1 = Path(r\"C:\\Cambridge Datasets\\archive 2\\nws_fixed_00001-01000\\nws_fixed_00001-01000\")\n",
    "data_path_2 = Path(r\"C:\\Cambridge Datasets\\archive 2\\nws_fixed_01001-02000\\nws_fixed_01001-02000\")\n",
    "data_path_3 = Path(r\"C:\\Cambridge Datasets\\archive 2\\nws_fixed_02001-03000\\nws_fixed_02001-03000\")\n",
    "\n",
    "data_path_list = [data_path_1, data_path_2, data_path_3]"
   ]
  },
  {
   "cell_type": "code",
   "execution_count": 3,
   "id": "f475a4ab",
   "metadata": {},
   "outputs": [],
   "source": [
    "def get_data_path(data_path_list):\n",
    "    image_list = []\n",
    "    meta_data_list = []\n",
    "    for data_path in data_path_list:\n",
    "        all_folders_from = [str(data_path / name) for name in os.listdir(data_path)]\n",
    "        meta_data = [pd.read_csv(str(folder / Path('meta.csv'))) for folder in all_folders_from]\n",
    "        meta_data_list.extend(meta_data)\n",
    "        for folder in all_folders_from:\n",
    "            folder_path = folder / Path(\"weights\") / Path(\"020.bin\")\n",
    "            for filename in glob.glob(str(folder_path)):\n",
    "                image_list.append(filename)\n",
    "    \n",
    "    return image_list, meta_data_list"
   ]
  },
  {
   "cell_type": "code",
   "execution_count": 4,
   "id": "9934796e",
   "metadata": {},
   "outputs": [],
   "source": [
    "X_list_path, meta_data = get_data_path(data_path_list)"
   ]
  },
  {
   "cell_type": "code",
   "execution_count": 5,
   "id": "2d63a19d",
   "metadata": {},
   "outputs": [],
   "source": [
    "def get_weights_from_bin(X_list_path):\n",
    "    train_X = []\n",
    "    for x_path in X_list_path:\n",
    "        with open(x_path, mode='rb') as file: # b is important -> binary\n",
    "            fileContent = file.read()\n",
    "            ints = struct.unpack(\"i\" * ((len(fileContent) -24) // 4), fileContent[20:-4])\n",
    "            train_X.append(ints)\n",
    "    return train_X"
   ]
  },
  {
   "cell_type": "code",
   "execution_count": 6,
   "id": "e5113fed",
   "metadata": {},
   "outputs": [],
   "source": [
    "train_X = get_weights_from_bin(X_list_path)\n",
    "y_list = [df['optimizer'][0] for df in meta_data]"
   ]
  },
  {
   "cell_type": "code",
   "execution_count": 7,
   "id": "96c714d5",
   "metadata": {},
   "outputs": [
    {
     "data": {
      "text/plain": [
       "array([2, 2, 0, ..., 0, 2, 1], dtype=int64)"
      ]
     },
     "execution_count": 7,
     "metadata": {},
     "output_type": "execute_result"
    }
   ],
   "source": [
    "from sklearn.preprocessing import LabelEncoder\n",
    "import numpy as np\n",
    "\n",
    "\n",
    "def labels_preprocessing(y_list):\n",
    "    le = LabelEncoder()\n",
    "    le.fit(np.unique(y_list))\n",
    "    y_array = le.transform(y_list)\n",
    "    return y_array\n",
    "\n",
    "y_array = labels_preprocessing(y_list)\n",
    "y_array"
   ]
  },
  {
   "cell_type": "code",
   "execution_count": 8,
   "id": "a3152114",
   "metadata": {},
   "outputs": [
    {
     "name": "stderr",
     "output_type": "stream",
     "text": [
      "c:\\Users\\Richard Bergna\\anaconda3\\lib\\site-packages\\xgboost\\compat.py:36: FutureWarning: pandas.Int64Index is deprecated and will be removed from pandas in a future version. Use pandas.Index with the appropriate dtype instead.\n",
      "  from pandas import MultiIndex, Int64Index\n"
     ]
    }
   ],
   "source": [
    "from sklearn.model_selection import train_test_split\n",
    "from sklearn.metrics import accuracy_score\n",
    "from xgboost import XGBClassifier\n",
    "from sklearn.linear_model import LogisticRegression\n",
    "from sklearn.naive_bayes import GaussianNB\n",
    "from sklearn.ensemble import RandomForestClassifier\n",
    "from sklearn.svm import SVC\n",
    "from sklearn.gaussian_process import GaussianProcessClassifier\n",
    "from sklearn.gaussian_process.kernels import RBF"
   ]
  },
  {
   "cell_type": "code",
   "execution_count": 9,
   "id": "cee81922",
   "metadata": {},
   "outputs": [],
   "source": [
    "def train_test(model, X_train, y_train, X_test, y_test):\n",
    "    model.fit(X_train, y_train)\n",
    "    y_pred = model.predict(X_test)\n",
    "    predictions = [round(int(value)) for value in y_pred]\n",
    "    accuracy = accuracy_score(y_test, predictions)\n",
    "    print(\"Accuracy: %.2f%%\" % (accuracy * 100.0))\n",
    "    accuracy = \" %.4f%%\" % (accuracy * 100.0)\n",
    "    return accuracy"
   ]
  },
  {
   "cell_type": "code",
   "execution_count": 10,
   "id": "00e6759f",
   "metadata": {},
   "outputs": [
    {
     "data": {
      "text/plain": [
       "dict_keys(['XGBClassifier', 'LogisticRegression', 'GaussianNB', 'RandomForestClassifier'])"
      ]
     },
     "execution_count": 10,
     "metadata": {},
     "output_type": "execute_result"
    }
   ],
   "source": [
    "\n",
    "models = {\n",
    "    \"XGBClassifier\": XGBClassifier(),\n",
    "    \"LogisticRegression\": LogisticRegression(),\n",
    "    # \"SVC\": SVC(),\n",
    "    \"GaussianNB\":GaussianNB(), \n",
    "    \"RandomForestClassifier\": RandomForestClassifier(), \n",
    "    }\n",
    "models.keys()"
   ]
  },
  {
   "cell_type": "code",
   "execution_count": 11,
   "id": "8b5cf5f0",
   "metadata": {},
   "outputs": [
    {
     "data": {
      "text/html": [
       "<div>\n",
       "<style scoped>\n",
       "    .dataframe tbody tr th:only-of-type {\n",
       "        vertical-align: middle;\n",
       "    }\n",
       "\n",
       "    .dataframe tbody tr th {\n",
       "        vertical-align: top;\n",
       "    }\n",
       "\n",
       "    .dataframe thead th {\n",
       "        text-align: right;\n",
       "    }\n",
       "</style>\n",
       "<table border=\"1\" class=\"dataframe\">\n",
       "  <thead>\n",
       "    <tr style=\"text-align: right;\">\n",
       "      <th></th>\n",
       "      <th>XGBClassifier</th>\n",
       "      <th>LogisticRegression</th>\n",
       "      <th>GaussianNB</th>\n",
       "      <th>RandomForestClassifier</th>\n",
       "    </tr>\n",
       "  </thead>\n",
       "  <tbody>\n",
       "    <tr>\n",
       "      <th>dataset</th>\n",
       "      <td>NaN</td>\n",
       "      <td>NaN</td>\n",
       "      <td>NaN</td>\n",
       "      <td>NaN</td>\n",
       "    </tr>\n",
       "    <tr>\n",
       "      <th>batch_size</th>\n",
       "      <td>1</td>\n",
       "      <td>NaN</td>\n",
       "      <td>NaN</td>\n",
       "      <td>NaN</td>\n",
       "    </tr>\n",
       "    <tr>\n",
       "      <th>batch_norm</th>\n",
       "      <td>NaN</td>\n",
       "      <td>NaN</td>\n",
       "      <td>NaN</td>\n",
       "      <td>NaN</td>\n",
       "    </tr>\n",
       "    <tr>\n",
       "      <th>augmentation</th>\n",
       "      <td>NaN</td>\n",
       "      <td>NaN</td>\n",
       "      <td>NaN</td>\n",
       "      <td>NaN</td>\n",
       "    </tr>\n",
       "    <tr>\n",
       "      <th>optimizer</th>\n",
       "      <td>NaN</td>\n",
       "      <td>NaN</td>\n",
       "      <td>NaN</td>\n",
       "      <td>NaN</td>\n",
       "    </tr>\n",
       "    <tr>\n",
       "      <th>activation</th>\n",
       "      <td>NaN</td>\n",
       "      <td>NaN</td>\n",
       "      <td>NaN</td>\n",
       "      <td>NaN</td>\n",
       "    </tr>\n",
       "    <tr>\n",
       "      <th>initialization</th>\n",
       "      <td>NaN</td>\n",
       "      <td>NaN</td>\n",
       "      <td>NaN</td>\n",
       "      <td>NaN</td>\n",
       "    </tr>\n",
       "    <tr>\n",
       "      <th>filter_size</th>\n",
       "      <td>NaN</td>\n",
       "      <td>NaN</td>\n",
       "      <td>NaN</td>\n",
       "      <td>NaN</td>\n",
       "    </tr>\n",
       "    <tr>\n",
       "      <th>depth_conv</th>\n",
       "      <td>NaN</td>\n",
       "      <td>NaN</td>\n",
       "      <td>NaN</td>\n",
       "      <td>NaN</td>\n",
       "    </tr>\n",
       "    <tr>\n",
       "      <th>depth_fc</th>\n",
       "      <td>NaN</td>\n",
       "      <td>NaN</td>\n",
       "      <td>NaN</td>\n",
       "      <td>NaN</td>\n",
       "    </tr>\n",
       "    <tr>\n",
       "      <th>width_conv</th>\n",
       "      <td>NaN</td>\n",
       "      <td>NaN</td>\n",
       "      <td>NaN</td>\n",
       "      <td>NaN</td>\n",
       "    </tr>\n",
       "    <tr>\n",
       "      <th>width_fc</th>\n",
       "      <td>NaN</td>\n",
       "      <td>NaN</td>\n",
       "      <td>NaN</td>\n",
       "      <td>NaN</td>\n",
       "    </tr>\n",
       "  </tbody>\n",
       "</table>\n",
       "</div>"
      ],
      "text/plain": [
       "               XGBClassifier LogisticRegression GaussianNB  \\\n",
       "dataset                  NaN                NaN        NaN   \n",
       "batch_size                 1                NaN        NaN   \n",
       "batch_norm               NaN                NaN        NaN   \n",
       "augmentation             NaN                NaN        NaN   \n",
       "optimizer                NaN                NaN        NaN   \n",
       "activation               NaN                NaN        NaN   \n",
       "initialization           NaN                NaN        NaN   \n",
       "filter_size              NaN                NaN        NaN   \n",
       "depth_conv               NaN                NaN        NaN   \n",
       "depth_fc                 NaN                NaN        NaN   \n",
       "width_conv               NaN                NaN        NaN   \n",
       "width_fc                 NaN                NaN        NaN   \n",
       "\n",
       "               RandomForestClassifier  \n",
       "dataset                           NaN  \n",
       "batch_size                        NaN  \n",
       "batch_norm                        NaN  \n",
       "augmentation                      NaN  \n",
       "optimizer                         NaN  \n",
       "activation                        NaN  \n",
       "initialization                    NaN  \n",
       "filter_size                       NaN  \n",
       "depth_conv                        NaN  \n",
       "depth_fc                          NaN  \n",
       "width_conv                        NaN  \n",
       "width_fc                          NaN  "
      ]
     },
     "execution_count": 11,
     "metadata": {},
     "output_type": "execute_result"
    }
   ],
   "source": [
    "df_solutions = pd.DataFrame(columns=models.keys(), index=meta_data[0].keys())\n",
    "df_solutions['XGBClassifier']['batch_size'] = 1\n",
    "df_solutions = df_solutions.drop(['lrate', 'test_acc'])\n",
    "df_solutions"
   ]
  },
  {
   "cell_type": "code",
   "execution_count": 12,
   "id": "25a16773",
   "metadata": {},
   "outputs": [],
   "source": [
    "categories = ['dataset', 'batch_size', 'augmentation', 'optimizer', 'activation', 'initialization']"
   ]
  },
  {
   "cell_type": "code",
   "execution_count": 13,
   "id": "bcb0c8db",
   "metadata": {},
   "outputs": [
    {
     "name": "stdout",
     "output_type": "stream",
     "text": [
      "XGBClassifier\n",
      "LogisticRegression\n",
      "GaussianNB\n",
      "dataset\n",
      "[4 0 2 ... 2 4 2]\n",
      "Accuracy: 30.50%\n",
      "batch_size\n",
      "[0 2 0 ... 2 1 3]\n",
      "Accuracy: 31.67%\n",
      "augmentation\n",
      "[0 0 0 ... 0 1 1]\n",
      "Accuracy: 47.00%\n",
      "optimizer\n",
      "[2 2 0 ... 0 2 1]\n",
      "Accuracy: 51.67%\n",
      "activation\n",
      "[2 0 2 ... 0 3 0]\n",
      "Accuracy: 71.33%\n",
      "initialization\n",
      "[1 1 3 ... 0 1 0]\n",
      "Accuracy: 55.33%\n",
      "               XGBClassifier LogisticRegression GaussianNB  \\\n",
      "dataset                  NaN                NaN   30.5000%   \n",
      "batch_size               NaN                NaN   31.6667%   \n",
      "augmentation             NaN                NaN   47.0000%   \n",
      "optimizer                NaN                NaN   51.6667%   \n",
      "activation               NaN                NaN   71.3333%   \n",
      "initialization           NaN                NaN   55.3333%   \n",
      "\n",
      "               RandomForestClassifier  \n",
      "dataset                           NaN  \n",
      "batch_size                        NaN  \n",
      "augmentation                      NaN  \n",
      "optimizer                         NaN  \n",
      "activation                        NaN  \n",
      "initialization                    NaN  \n",
      "RandomForestClassifier\n",
      "dataset\n",
      "[4 0 2 ... 2 4 2]\n"
     ]
    }
   ],
   "source": [
    "df_solutions = pd.DataFrame(columns=models.keys(), index=categories)\n",
    "\n",
    "for model_name in models.keys():\n",
    "    print(model_name)\n",
    "    if model_name == 'XGBClassifier' or model_name == 'LogisticRegression':\n",
    "            continue\n",
    "    for category in categories:\n",
    "        \n",
    "        print(category)\n",
    "        y_list = [df[category][0] for df in meta_data]\n",
    "        y_array = labels_preprocessing(y_list)\n",
    "        print(y_array)\n",
    "        X_train, X_test, y_train, y_test = train_test_split(train_X, list(y_array), test_size=0.2, random_state=10)\n",
    "\n",
    "        model = models[model_name]\n",
    "        model_accuracy = train_test(model, X_train, y_train, X_test, y_test)\n",
    "        df_solutions[model_name][category] = model_accuracy\n",
    "\n",
    "    print(df_solutions)\n",
    "        \n",
    "df_solutions\n"
   ]
  },
  {
   "cell_type": "code",
   "execution_count": null,
   "id": "4748bd11",
   "metadata": {},
   "outputs": [],
   "source": []
  },
  {
   "cell_type": "code",
   "execution_count": null,
   "id": "70582e5d",
   "metadata": {},
   "outputs": [],
   "source": [
    "# 30.50% -dataset - GaussianNB\n",
    "# 31.67% -batch_size - GaussianNB\n",
    "# 47.00% -augmentation - GaussianNB\n",
    "# 51.67% -optimizer - GaussianNB\n",
    "# 71.33% -activation - GaussianNB\n",
    "# 55.33% -initialization - GaussianNB"
   ]
  },
  {
   "cell_type": "code",
   "execution_count": null,
   "id": "a8a6f69f",
   "metadata": {},
   "outputs": [
    {
     "data": {
      "text/plain": [
       "' 91.5000%'"
      ]
     },
     "execution_count": 21,
     "metadata": {},
     "output_type": "execute_result"
    }
   ],
   "source": [
    "# 35.83% -dataset - LogisticRegression\n",
    "# 24.17% -batch_size - LogisticRegression\n",
    "# 46.83% -augmentation - LogisticRegression\n",
    "# 45.33% -optimizer - LogisticRegression\n",
    "# 73.67% -activation - LogisticRegression\n",
    "# 56.17% -initialization - LogisticRegression"
   ]
  },
  {
   "cell_type": "code",
   "execution_count": null,
   "id": "491d79e0",
   "metadata": {},
   "outputs": [],
   "source": [
    "# 91.50% -dataset - xgboostx\n",
    "# 49.50% -batch_size - xgboost\n",
    "# 66.83% -augmentation - xgboost\n",
    "# 99.17% -optimizer - xgboost\n",
    "# 98.67%% -activation - xgboost\n",
    "# 70.00%% -initialization - xgboost"
   ]
  }
 ],
 "metadata": {
  "kernelspec": {
   "display_name": "base",
   "language": "python",
   "name": "python3"
  },
  "language_info": {
   "codemirror_mode": {
    "name": "ipython",
    "version": 3
   },
   "file_extension": ".py",
   "mimetype": "text/x-python",
   "name": "python",
   "nbconvert_exporter": "python",
   "pygments_lexer": "ipython3",
   "version": "3.9.12"
  },
  "vscode": {
   "interpreter": {
    "hash": "266193d59b8656848da1f677346d2e76c14460aa62e4c1f16705c225e1799c6a"
   }
  }
 },
 "nbformat": 4,
 "nbformat_minor": 5
}
